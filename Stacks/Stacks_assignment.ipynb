{
 "cells": [
  {
   "cell_type": "code",
   "execution_count": null,
   "id": "cf0f26c5",
   "metadata": {},
   "outputs": [],
   "source": [
    "# Q.1)Given an array, for each element find the value of the nearest element to the right which is having a frequency greater \n",
    "#than that of the current element. If there does not exist an answer for a position, then make the value ‘-1’."
   ]
  },
  {
   "cell_type": "code",
   "execution_count": null,
   "id": "2511fdee",
   "metadata": {},
   "outputs": [],
   "source": [
    "def nearest_greater_frequency(arr):\n",
    "  n = len(arr)\n",
    "  freq = {}\n",
    "  for i in range(n):\n",
    "    if arr[i] not in freq:\n",
    "      freq[arr[i]] = 0\n",
    "    freq[arr[i]] += 1\n",
    "\n",
    "  nearest_greater_freq = [-1] * n\n",
    "  for i in range(n - 1, -1, -1):\n",
    "    curr_freq = freq[arr[i]]\n",
    "    j = i + 1\n",
    "    while j < n:\n",
    "      if arr[j] > arr[i] and freq[arr[j]] > curr_freq:\n",
    "        nearest_greater_freq[i] = arr[j]\n",
    "        break\n",
    "      j += 1\n",
    "\n",
    "  return nearest_greater_freq"
   ]
  },
  {
   "cell_type": "code",
   "execution_count": null,
   "id": "e7f4a47d",
   "metadata": {},
   "outputs": [],
   "source": [
    "# Q.2)Given a stack of integers, sort it in ascending order using another temporary stack."
   ]
  },
  {
   "cell_type": "code",
   "execution_count": 2,
   "id": "42332c57",
   "metadata": {},
   "outputs": [],
   "source": [
    "def sort_stack(stack):\n",
    "  tmp_stack = []\n",
    "  while not stack.empty():\n",
    "    temp = stack.pop()\n",
    "    while not tmp_stack.empty() and tmp_stack.top() > temp:\n",
    "      stack.push(tmp_stack.pop())\n",
    "    tmp_stack.push(temp)\n",
    "\n",
    "  while not tmp_stack.empty():\n",
    "    stack.push(tmp_stack.pop())\n",
    "\n",
    "  return stack"
   ]
  },
  {
   "cell_type": "code",
   "execution_count": null,
   "id": "76340fe7",
   "metadata": {},
   "outputs": [],
   "source": [
    "# Q.3)Given a stack with push(), pop(), and empty() operations, The task is to delete the middle element of it without using any\n",
    "# additional data structure."
   ]
  },
  {
   "cell_type": "code",
   "execution_count": 3,
   "id": "73376e81",
   "metadata": {},
   "outputs": [],
   "source": [
    "def delete_middle_element(stack):\n",
    "    \n",
    "  if stack.empty():\n",
    "    return stack\n",
    "\n",
    "  top = stack.top()\n",
    "  stack.pop()\n",
    "\n",
    "  if stack.empty():\n",
    "    return stack\n",
    "\n",
    "  second_top = stack.top()\n",
    "  stack.pop()\n",
    "\n",
    "  stack.push(top)\n",
    "\n",
    "  if second_top == top:\n",
    "    return stack\n",
    "\n",
    "  return stack"
   ]
  },
  {
   "cell_type": "code",
   "execution_count": null,
   "id": "80f3736b",
   "metadata": {},
   "outputs": [],
   "source": [
    "#Q.4) Given a Queue consisting of first n natural numbers (in random order). The task is to check whether the given Queue \n",
    "# elements can be arranged in increasing order in another Queue using a stack"
   ]
  },
  {
   "cell_type": "code",
   "execution_count": 6,
   "id": "4071b0e0",
   "metadata": {},
   "outputs": [],
   "source": [
    "def can_be_sorted(queue):\n",
    "  stack = []\n",
    "  for i in range(len(queue)):\n",
    "    top_element = stack[-1] if stack else None\n",
    "    if top_element is not None and top_element > queue[i]:\n",
    "      return False\n",
    "    stack.append(queue[i])\n",
    "\n",
    "  while stack:\n",
    "    top_element = stack.pop()\n",
    "    if top_element > queue[0]:\n",
    "      return False\n",
    "    queue.pop(0)\n",
    "\n",
    "  return True"
   ]
  },
  {
   "cell_type": "code",
   "execution_count": null,
   "id": "03e0b81d",
   "metadata": {},
   "outputs": [],
   "source": [
    "#Q.5) Given a number , write a program to reverse this number using stack."
   ]
  },
  {
   "cell_type": "code",
   "execution_count": 7,
   "id": "25cf7e02",
   "metadata": {},
   "outputs": [],
   "source": [
    "def reverse_number(number):\n",
    "  stack = []\n",
    "  while number > 0:\n",
    "    digit = number % 10\n",
    "    stack.append(digit)\n",
    "    number //= 10\n",
    "\n",
    "  reversed_number = 0\n",
    "  for digit in stack:\n",
    "    reversed_number *= 10\n",
    "    reversed_number += digit\n",
    "\n",
    "  return reversed_number"
   ]
  },
  {
   "cell_type": "code",
   "execution_count": null,
   "id": "72275476",
   "metadata": {},
   "outputs": [],
   "source": [
    "#Q.6) Given an integer k and a queue of integers, The task is to reverse the order of the first k elements of the queue, \n",
    "#leaving the other elements in the same relative order."
   ]
  },
  {
   "cell_type": "code",
   "execution_count": 8,
   "id": "0b704f2e",
   "metadata": {},
   "outputs": [],
   "source": [
    "def reverse_first_k_elements(queue, k):\n",
    "  stack = []\n",
    "  for i in range(k):\n",
    "    element = queue.dequeue()\n",
    "    stack.append(element)\n",
    "\n",
    "  for i in range(k):\n",
    "    element = stack.pop()\n",
    "    queue.enqueue(element)"
   ]
  },
  {
   "cell_type": "code",
   "execution_count": null,
   "id": "317b8bc2",
   "metadata": {},
   "outputs": [],
   "source": [
    "#Q.7) Given a sequence of n strings, the task is to check if any two similar words come together and then destroy each other\n",
    "#then print the number of words left in the sequence after this pairwise destruction."
   ]
  },
  {
   "cell_type": "code",
   "execution_count": 10,
   "id": "cc5aef62",
   "metadata": {},
   "outputs": [],
   "source": [
    "def destroy_similar_words(words):\n",
    "  destroyed_words = 0\n",
    "  stack = []\n",
    "  for word in words:\n",
    "    if stack and word == stack[-1]:\n",
    "      stack.pop()\n",
    "      destroyed_words += 2\n",
    "    else:\n",
    "      stack.append(word)\n",
    "\n",
    "  return len(stack)"
   ]
  },
  {
   "cell_type": "code",
   "execution_count": null,
   "id": "7e002e83",
   "metadata": {},
   "outputs": [],
   "source": [
    "#Q. 8)Given an array of integers, the task is to find the maximum absolute difference between the nearest left and the right\n",
    "#smaller element of every element in the array."
   ]
  },
  {
   "cell_type": "code",
   "execution_count": 11,
   "id": "1ca54b31",
   "metadata": {},
   "outputs": [],
   "source": [
    "def find_maximum_absolute_difference(arr):\n",
    "  n = len(arr)\n",
    "  left_smaller = [0] * n\n",
    "  right_smaller = [0] * n\n",
    "\n",
    "  for i in range(1, n):\n",
    "    left_smaller[i] = min(arr[i], left_smaller[i - 1])\n",
    "\n",
    "  for i in range(n - 1, -1, -1):\n",
    "    right_smaller[i] = min(arr[i], right_smaller[i + 1])\n",
    "\n",
    "  max_difference = 0\n",
    "  for i in range(n):\n",
    "    difference = abs(left_smaller[i] - right_smaller[i])\n",
    "    if difference > max_difference:\n",
    "      max_difference = difference\n",
    "\n",
    "  return max_difference"
   ]
  }
 ],
 "metadata": {
  "kernelspec": {
   "display_name": "Python 3 (ipykernel)",
   "language": "python",
   "name": "python3"
  },
  "language_info": {
   "codemirror_mode": {
    "name": "ipython",
    "version": 3
   },
   "file_extension": ".py",
   "mimetype": "text/x-python",
   "name": "python",
   "nbconvert_exporter": "python",
   "pygments_lexer": "ipython3",
   "version": "3.9.7"
  }
 },
 "nbformat": 4,
 "nbformat_minor": 5
}
